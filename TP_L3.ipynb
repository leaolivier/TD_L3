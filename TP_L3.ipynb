{
 "cells": [
  {
   "cell_type": "markdown",
   "metadata": {},
   "source": [
    "# Découverte de l'Océan : la circulation thermohaline"
   ]
  },
  {
   "cell_type": "markdown",
   "metadata": {},
   "source": [
    "## Océanographie physique descriptive"
   ]
  },
  {
   "cell_type": "markdown",
   "metadata": {},
   "source": [
    "L'océanographie descriptive approche l'océan à travers les observations et les sorties de modèles complexes et s'attache a comprendre le mouvement de l'océan de manière aussi quantitative que possible. Le but de ce TP est de vous familiariser avec l'océan global et de vous construire un sens physique de l'océan.\n",
    "Dans un premier temps, on va s'intéresser aux propriétés clés de l'océan : la température et la salinité.\n",
    "\n",
    "Par groupe de deux, vous allez choisir un basin parmis ceux cités ci-dessous :\n",
    "-Océan Atlantique Nord\n",
    "-Océan Atlantique Sud\n",
    "-Océan Atlantique Tropical\n",
    "-Océan Indien\n",
    "-Océan Pacifique Nord\n",
    "-Océan Pacifique Sud\n",
    "-Océan Pacifique Tropical\n",
    "-Océan Austral"
   ]
  },
  {
   "cell_type": "markdown",
   "metadata": {},
   "source": [
    "### Temperature"
   ]
  },
  {
   "cell_type": "markdown",
   "metadata": {},
   "source": [
    "- Importer les libraries\n",
    "\n",
    "\n",
    "En python, comme dans beaucoup de logiciel de code, on va importer des librairies, c'est à dire un ensemble de fonctions sur un thème particulier. Ici, la librairie Cartopy sert à faire des cartes, matplotlib à faire des figures et numpy à faire du calcul mathématique. Seawater apporte plusieurs fonctions liées à l'océanopgraphie (calculer la densité à partir de T et S par exemple). NetCDF4 va permettre de charger les données stockées dans des fichiers netCDF, un format très utilisé en sciences du climat."
   ]
  },
  {
   "cell_type": "code",
   "execution_count": 1,
   "metadata": {},
   "outputs": [],
   "source": [
    "import cartopy.crs as m\n",
    "import matplotlib.pyplot as plt\n",
    "import numpy as np\n",
    "import seawater as gsw\n",
    "import netCDF4 as nc"
   ]
  },
  {
   "cell_type": "markdown",
   "metadata": {},
   "source": [
    "- Lire les données du fichier netcdf\n",
    "\n",
    "Le fichier woa13_15B2_s00v2.nc contient les données de salinité pour tout le globe, à 102 niveau de profondeurs, et à une résolution spatiale de 1°x1°. On va récupérer les variables latitude, longitude, pronfondeur, salinité dans ce fichier et la température dans le fichier woa13_A5B2_t00_01v2.nc."
   ]
  },
  {
   "cell_type": "code",
   "execution_count": 2,
   "metadata": {},
   "outputs": [],
   "source": [
    "#1° Resolution dataset\n",
    "#fn='/Users/leaolivier/Documents/Monitorat/Océanographie/2019-2020/OceanoL3/Data/WOA/woa13_A5B2_s00_01v2.nc'\n",
    "\n",
    "#5° Resolution dataset\n",
    "fn='woa13_decav_s00_5dv2.nc'\n",
    "#If you use the 5°resolution, change s_an by s_mn and t_an by t_mn\n",
    "\n",
    "#Read the dataset and give information about the file, including the name of \n",
    "#the variables, you can print ds to see the informations\n",
    "ds=nc.Dataset(fn)\n",
    "#Create arrays with the variable of interest\n",
    "lat=ds['lat'][:]\n",
    "lon=ds['lon'][:]\n",
    "depth=ds['depth'][:]\n",
    "s_an=ds['s_mn'][:]\n",
    "#fn='/Users/leaolivier/Documents/Monitorat/Océanographie/2019-2020/OceanoL3/Data/WOA/woa13_A5B2_t00_01v2.nc'\n",
    "#5° Resolution dataset\n",
    "fn='woa13_decav_t00_5dv2.nc'\n",
    "ds=nc.Dataset(fn)\n",
    "t_an=ds['t_mn'][:]\n",
    "s_an=np.squeeze(s_an)\n",
    "t_an=np.squeeze(t_an)\n"
   ]
  },
  {
   "cell_type": "markdown",
   "metadata": {},
   "source": [
    "## Visualiser les données : la grande échelle\n",
    "\n",
    "Faire une carte est la première façon de visualiser les données. On va donc dans un premier temps regarder la température et la salinité à la surface de l'océan."
   ]
  },
  {
   "cell_type": "markdown",
   "metadata": {},
   "source": [
    "### Salinité"
   ]
  },
  {
   "cell_type": "code",
   "execution_count": null,
   "metadata": {},
   "outputs": [],
   "source": [
    "fig=plt.figure()\n",
    "ax=plt.axes(projection=m.Mercator())\n",
    "ca=ax.pcolormesh(lon,lat,s_an[0,:,:],transform=m.PlateCarree(),vmin=30, vmax=38)\n",
    "cbar=fig.colorbar(ca)\n",
    "cbar.set_label('SSS', rotation=90)\n",
    "ax.coastlines()\n",
    "ax.set_global()\n",
    "plt.show()"
   ]
  },
  {
   "cell_type": "markdown",
   "metadata": {},
   "source": [
    "Décrivez la carte de salinité de surface. Que nous apprend-t-elle ? Quels sont les processus faisant varier la salinité dans l'océan ? Peut-on en reconnaitre certaines ici ? Quel est l'océan le plus salé ? Y-a-t-il un lien avec la circulation océanique de surface ?"
   ]
  },
  {
   "cell_type": "markdown",
   "metadata": {},
   "source": [
    "### Température"
   ]
  },
  {
   "cell_type": "code",
   "execution_count": null,
   "metadata": {},
   "outputs": [],
   "source": [
    "SSTfig=plt.figure()\n",
    "ax=plt.axes(projection=m.Mercator())\n",
    "c2=ax.pcolormesh(lon,lat,t_an[0,:,:],transform=m.PlateCarree(),cmap='twilight_shifted')\n",
    "cbar=SSTfig.colorbar(c2)\n",
    "cbar.set_label('SST', rotation=90)\n",
    "ax.coastlines()\n",
    "ax.set_global()\n",
    "plt.show()"
   ]
  },
  {
   "cell_type": "markdown",
   "metadata": {},
   "source": [
    "Décrivez la carte de température de surface. Que nous apprend-t-elle ? Quels sont les processus faisant varier la température dans l'océan ? Peut-on en reconnaitre certaines ici ? Y-a-t-il un lien avec la circulation océanique de surface ?"
   ]
  },
  {
   "cell_type": "markdown",
   "metadata": {},
   "source": [
    "## Visualiser les données : Echelle de l'océan"
   ]
  },
  {
   "cell_type": "markdown",
   "metadata": {},
   "source": [
    "Dans cette seconde partie on va s'intéresser à un océan en particulier (Atlantique, Pacifique, Indien), et le couper en deux pour regarder les variations Nord-Sud de la température et de la salinité. Vous pourrez également la variation Est-Ouest si cela vous intéresse.\n",
    "Pour cela, on va fixer une dimension de la variable s_an (ou t_an pour la température).\n",
    "La variable s_an comprend trois dimensions, la première représente la profondeur, la deuxième la latitude, et la dernière la longitude. Dans le code ci-dessous, idx_section représente l'index (la position dans le vecteur longitude) associé à la longitude que l'on souhaite fixer. "
   ]
  },
  {
   "cell_type": "markdown",
   "metadata": {},
   "source": [
    "### Océan Indien\n",
    "\n",
    "Pour l'océan Indien, on va se placer à la longitude 66.5°E (index 246) dans le fichier haute résolution, et à la longitude 67.5°E (index 49)."
   ]
  },
  {
   "cell_type": "markdown",
   "metadata": {},
   "source": [
    "### Océan Pacifique\n",
    "\n",
    "Pour l'océan Pacifique, on va se placer à la longitude 170.5°W (index 9). Pour le fichier basse résolution, on peut prendre la longitude 172.5°W (index 1)."
   ]
  },
  {
   "cell_type": "markdown",
   "metadata": {},
   "source": [
    "### Océan Atlantique\n",
    "Pour l'océan atlantique, on va choisir comme longitude 30.5°W (index 149), qui coupe approximativement le basin en son centre. Si l'on travaille sur le fichier basse résolution, on prendra la longitude 32.5°W (index 29)."
   ]
  },
  {
   "cell_type": "code",
   "execution_count": null,
   "metadata": {},
   "outputs": [],
   "source": [
    "idx_section=29\n",
    "section=plt.figure()\n",
    "ax=plt.axes()\n",
    "c=ax.pcolor(lat,depth,s_an[:,:,idx_section],vmin=34,vmax=36.5,cmap='PuOr')\n",
    "cbar=section.colorbar(c)\n",
    "cbar.set_label('Salinity (pss)', rotation=90)\n",
    "ax.invert_yaxis()\n",
    "ax.set_ylabel('Depth (m)')\n",
    "ax.set_xlabel('Latitude')\n",
    "ax.set_title('Salinity section in the Atlantic Ocean')\n",
    "plt.show"
   ]
  },
  {
   "cell_type": "markdown",
   "metadata": {},
   "source": [
    "Décrivez cette section de salinité. Que remarquez vous ? Quels sont les structures les plus remarquables ? Que signifient-elles ?"
   ]
  },
  {
   "cell_type": "markdown",
   "metadata": {},
   "source": [
    "- Calcul de la température potentielle\n",
    "\n",
    "Le code court suivant calcule la température potentielle sur la section choisie. Plottez la section de la température, ou de la température potentielle."
   ]
  },
  {
   "cell_type": "code",
   "execution_count": 20,
   "metadata": {},
   "outputs": [
    {
     "name": "stderr",
     "output_type": "stream",
     "text": [
      "<ipython-input-20-4a9fbea1461d>:5: UserWarning: Warning: converting a masked element to nan.\n",
      "  ptmp[j,i]=gsw.ptmp(s_an[j,i,idx_section],t_an[j,i,idx_section],depth[j],0)\n"
     ]
    }
   ],
   "source": [
    "ptmp=np.zeros((len(depth),len(lat)))\n",
    "              \n",
    "for i in range(len(lat)):\n",
    "    for j in range(len(depth)):\n",
    "        ptmp[j,i]=gsw.ptmp(s_an[j,i,idx_section],t_an[j,i,idx_section],depth[j],0)"
   ]
  },
  {
   "cell_type": "markdown",
   "metadata": {},
   "source": [
    "### Coder ici la section de température"
   ]
  },
  {
   "cell_type": "markdown",
   "metadata": {},
   "source": [
    "Décrivez cette section de température. Que remarquez vous ? Quels sont les structures les plus remarquables ? Que signifient-elles ?"
   ]
  },
  {
   "cell_type": "markdown",
   "metadata": {},
   "source": [
    "## Visualiser les données : Echelle locale"
   ]
  },
  {
   "cell_type": "markdown",
   "metadata": {},
   "source": [
    "Pour aller encore plus en détail, on va descendre à l'échelle du profil. C'est à dire que l'on va choisir une longitude et une latitude particulière, et regarder la variation de la température et de la salinité à cette position là. Vous pouvez, à partir de la section, sélectionner les points qui vous paraissent intéressants à regarder. Ici un exemple est pris dans l'atlantique. La variable idx_profil représente ici la position dans le vecteur latitude de la latitude que l'on veut fixer, 9.5°S par exemple. A vous de trouver les points qui vous semblent intéressants au vu de la section. Codez le profil de température potentielle. Qu'elle est la différence avec la température ? "
   ]
  },
  {
   "cell_type": "code",
   "execution_count": null,
   "metadata": {},
   "outputs": [],
   "source": [
    "idx_profil=\n",
    "profils, axs=plt.subplots(1,2);\n",
    "axs[0].plot(s_an[:,idx_profil,idx_section],depth)\n",
    "axs[0].invert_yaxis()\n",
    "axs[0].set_ylabel('Depth')\n",
    "axs[0].set_xlabel('Salinity (pss)')\n",
    "axs[0].set_title('Salinity profile')\n",
    "axs[1].plot(t_an[:,idx_profil,idx_section],depth)\n",
    "axs[1].invert_yaxis()\n",
    "axs[1].set_xlabel('Temperature (°C)')\n",
    "axs[1].set_title('Temperature profile in the Atlantic Ocean')\n",
    "plt.show()\n"
   ]
  },
  {
   "cell_type": "markdown",
   "metadata": {},
   "source": [
    "### Diagrame T-S\n",
    "\n",
    "Une approche classique pour regarder les masses d'eaux est de représenter les deux propriétés clés l'une en fonction de l'autre. Le diagramme T-S est donc l'un des objets les plus utilisé de l'océanographie pour caractériser les masses d'eaux et leur mélange. Vous pourrez trouver des informations sur les diagrames T-S dans les livres PDF mis à disposition par Sabrina. \n",
    "Petit récapitulatif des diagrames T-S :\n",
    "- Si une masse d'eau est homogène, elle sera représentée par un point sur le diagramme T-S.\n",
    "- Le mélange entre deux masses d'eau est généralement représenté par une droite\n",
    "\n",
    "Le script ci-dessous est un peu plus complexe, il sert à créer le diagramme, et principalement à créer et représenter les isopycnes sur la figure. Les variables temp et salt représentes le profil de température et de salinité au point de latitude et longitude choisi dans idx_profil et idx_section. Remplacez la température par la température potentielle."
   ]
  },
  {
   "cell_type": "code",
   "execution_count": null,
   "metadata": {},
   "outputs": [],
   "source": [
    "temp  = t_an[:,idx_profil,idx_section]\n",
    "salt  = s_an[:,idx_profil,idx_section]\n",
    "\n",
    "# Figure out boudaries (mins and maxs)\n",
    "smin = salt.min() - (0.01 * salt.min())\n",
    "smax = salt.max() + (0.01 * salt.max())\n",
    "tmin = temp.min() - (0.1 * temp.max())\n",
    "tmax = temp.max() + (0.1 * temp.max())\n",
    " \n",
    "# Calculate how many gridcells we need in the x and y dimensions\n",
    "xdim = int(round((smax-smin)/0.1+1,0))\n",
    "ydim = int(round((tmax-tmin)+1,0))\n",
    " \n",
    "# Create empty grid of zeros\n",
    "dens = np.zeros((ydim,xdim))\n",
    " \n",
    "# Create temp and salt vectors of appropiate dimensions\n",
    "ti = np.linspace(1,ydim-1,ydim)+tmin\n",
    "si = np.linspace(1,xdim-1,xdim)*0.1+smin\n",
    " \n",
    "# Loop to fill in grid with densities\n",
    "for j in range(0,int(ydim)):\n",
    "    for i in range(0, int(xdim)):\n",
    "        dens[j,i]=gsw.dens(si[i],ti[j],0)\n",
    " \n",
    "dens = dens - 1000\n",
    " \n",
    "# Plot data ***********************************************\n",
    "fig1 = plt.figure()\n",
    "ax1 = fig1.add_subplot(111)\n",
    "CS = plt.contour(si,ti,dens, linestyles='dashed', colors='k')\n",
    "plt.clabel(CS, fontsize=12, inline=1, fmt='%1.0f') # Label every second level\n",
    " \n",
    "ax1.plot(salt,temp,'o',markersize=5)\n",
    " \n",
    "ax1.set_xlabel('Salinity')\n",
    "ax1.set_ylabel('Temperature (°C)')"
   ]
  },
  {
   "cell_type": "code",
   "execution_count": null,
   "metadata": {},
   "outputs": [],
   "source": [
    "\n"
   ]
  },
  {
   "cell_type": "code",
   "execution_count": null,
   "metadata": {},
   "outputs": [],
   "source": []
  },
  {
   "cell_type": "code",
   "execution_count": null,
   "metadata": {},
   "outputs": [],
   "source": []
  },
  {
   "cell_type": "code",
   "execution_count": null,
   "metadata": {},
   "outputs": [],
   "source": []
  }
 ],
 "metadata": {
  "kernelspec": {
   "display_name": "Python 3",
   "language": "python",
   "name": "python3"
  },
  "language_info": {
   "codemirror_mode": {
    "name": "ipython",
    "version": 3
   },
   "file_extension": ".py",
   "mimetype": "text/x-python",
   "name": "python",
   "nbconvert_exporter": "python",
   "pygments_lexer": "ipython3",
   "version": "3.8.3"
  }
 },
 "nbformat": 4,
 "nbformat_minor": 4
}
